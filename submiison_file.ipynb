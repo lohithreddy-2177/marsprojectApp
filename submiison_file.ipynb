{
 "cells": [
  {
   "cell_type": "code",
   "execution_count": 1,
   "metadata": {},
   "outputs": [],
   "source": [
    "import IPython.display as ipd\n",
    "import pandas as pd\n",
    "import numpy as np\n",
    "import librosa\n",
    "import librosa.display\n",
    "import os\n",
    "import seaborn as sns\n",
    "import matplotlib.pyplot as plt"
   ]
  },
  {
   "cell_type": "code",
   "execution_count": 2,
   "metadata": {},
   "outputs": [],
   "source": [
    "import os\n",
    "\n",
    "def emotion_finder(file_name):\n",
    "    emotion = {\n",
    "        \"01\": \"neutral\",\n",
    "        \"02\": \"calm\",\n",
    "        \"03\": \"happy\",\n",
    "        \"04\": \"sad\",\n",
    "        \"05\": \"angry\",\n",
    "        \"06\": \"fearful\",\n",
    "        \"07\": \"disgust\",\n",
    "        \"08\": \"surprised\"\n",
    "    }\n",
    "    index = file_name.split(\"-\")[2]\n",
    "    return emotion.get(index, \"unknown\")\n"
   ]
  },
  {
   "cell_type": "code",
   "execution_count": 3,
   "metadata": {},
   "outputs": [],
   "source": [
    "emotions_list = []\n",
    "actor_names = []\n",
    "file_names = []\n",
    "\n",
    "# Two main folders\n",
    "folders = [\n",
    "    '/Users/yathamlohithreddy/Desktop/vscodefloder/marsproject/Audio_Speech_Actors_01-24',\n",
    "    '/Users/yathamlohithreddy/Desktop/vscodefloder/marsproject/Audio_Song_Actors_01-24'\n",
    "\n",
    "]\n"
   ]
  },
  {
   "cell_type": "code",
   "execution_count": 4,
   "metadata": {},
   "outputs": [],
   "source": [
    "# Go through each top-level folder\n",
    "for pre in folders:\n",
    "    for actor_name in os.listdir(pre):\n",
    "        actor_path = os.path.join(pre, actor_name)\n",
    "        if not os.path.isdir(actor_path):\n",
    "            continue  # Skip files\n",
    "        actor_names.append(actor_name)\n",
    "        for filename in os.listdir(actor_path):\n",
    "            if filename.endswith(\".wav\"):\n",
    "                full_path = os.path.join(actor_path, filename)\n",
    "                file_names.append(full_path)\n",
    "                emotion = emotion_finder(filename)\n",
    "                emotions_list.append(emotion)"
   ]
  },
  {
   "cell_type": "code",
   "execution_count": 5,
   "metadata": {},
   "outputs": [
    {
     "name": "stdout",
     "output_type": "stream",
     "text": [
      "Number of files: 2452\n",
      "Number of emotions: 2452\n",
      "emotion\n",
      "angry        376\n",
      "fearful      376\n",
      "sad          376\n",
      "happy        376\n",
      "calm         376\n",
      "disgust      192\n",
      "surprised    192\n",
      "neutral      188\n",
      "Name: count, dtype: int64\n",
      "/Users/yathamlohithreddy/Desktop/vscodefloder/marsproject/Audio_Speech_Actors_01-24/Actor_16/03-01-05-01-02-01-16.wav\n"
     ]
    },
    {
     "data": {
      "image/png": "[encoded data removed]",
      "text/plain": [
       "<Figure size 640x480 with 1 Axes>"
      ]
     },
     "metadata": {},
     "output_type": "display_data"
    }
   ],
   "source": [
    "\n",
    "print(\"Number of files:\", len(file_names))\n",
    "print(\"Number of emotions:\", len(emotions_list))\n",
    "df = pd.DataFrame()\n",
    "df[\"file_name\"] = file_names\n",
    "df[\"emotion\"] = emotions_list\n",
    "print(df[\"emotion\"].value_counts())\n",
    "sns.countplot(df[\"emotion\"])\n",
    "print(df[\"file_name\"][0])"
   ]
  },
  {
   "cell_type": "code",
   "execution_count": 6,
   "metadata": {},
   "outputs": [
    {
     "data": {
      "text/plain": [
       "emotion\n",
       "fearful      376\n",
       "calm         376\n",
       "disgust      376\n",
       "neutral      376\n",
       "angry        376\n",
       "happy        376\n",
       "surprised    376\n",
       "sad          376\n",
       "Name: count, dtype: int64"
      ]
     },
     "execution_count": 6,
     "metadata": {},
     "output_type": "execute_result"
    }
   ],
   "source": [
    "from sklearn.utils import resample\n",
    "\n",
    "\n",
    "df = pd.DataFrame({\"file_path\": file_names, \"emotion\": emotions_list})\n",
    "max_count = df['emotion'].value_counts().max()\n",
    "balanced_df = pd.concat([\n",
    "    resample(df[df.emotion == e], replace=True, n_samples=max_count, random_state=42)\n",
    "    for e in df['emotion'].unique()]).sample(frac=1, random_state=42)\n",
    "df = balanced_df\n",
    "balanced_df[\"emotion\"].value_counts()\n"
   ]
  },
  {
   "cell_type": "code",
   "execution_count": 7,
   "metadata": {},
   "outputs": [],
   "source": [
    "def mfcc_values(filename):\n",
    "    y, sr = librosa.load(filename, duration=3, offset=0.5)\n",
    "    mfcc = np.mean(librosa.feature.mfcc(y=y, sr=sr, n_mfcc=40).T, axis=0)\n",
    "    return mfcc\n",
    "\n",
    "\n",
    "def delta_values(file_name):\n",
    "    mfcc = mfcc_values(file_name)\n",
    "    delta_mfcc =  librosa.feature.delta(mfcc)\n",
    "    return delta_mfcc\n",
    "\n",
    "\n",
    "def log_mel_values(file_path, duration=3, offset=0.5, n_mels=128):\n",
    "    y, sr = librosa.load(file_path, duration=duration, offset=offset)\n",
    "    mel_spec = librosa.feature.melspectrogram(y=y, sr=sr, n_mels=n_mels)\n",
    "    log_mel_spec = librosa.power_to_db(mel_spec)\n",
    "    log_mel_mean = np.mean(log_mel_spec.T, axis=0)\n",
    "    \n",
    "    return log_mel_mean\n",
    "\n",
    "\n",
    "def zcr_values(file_name):\n",
    "    sig ,sr = librosa.load(file_name,duration=3, offset = 0.5)\n",
    "    zcr = np.mean(librosa.feature.zero_crossing_rate(sig).T, axis=0)\n",
    "    return zcr\n",
    "\n",
    "\n",
    "def spectral_features(file_path, duration=3, offset=0.5):\n",
    "    y, sr = librosa.load(file_path, duration=duration, offset=offset)\n",
    "    centroid = np.mean(librosa.feature.spectral_centroid(y=y, sr=sr))\n",
    "    bandwidth = np.mean(librosa.feature.spectral_bandwidth(y=y, sr=sr))\n",
    "    contrast = np.mean(librosa.feature.spectral_contrast(y=y, sr=sr), axis=1)\n",
    "    rolloff = np.mean(librosa.feature.spectral_rolloff(y=y, sr=sr))\n",
    "    flatness = np.mean(librosa.feature.spectral_flatness(y=y))\n",
    "    spectral_features = np.hstack([centroid, bandwidth, rolloff, flatness, contrast])\n",
    "\n",
    "    return spectral_features\n",
    "\n",
    "\n",
    "def extract_features(file_name):\n",
    "    mfcc = mfcc_values(file_name)\n",
    "    delta = delta_values(file_name)\n",
    "    log_mel = log_mel_values(file_name)\n",
    "    zcr = zcr_values(file_name)\n",
    "    spectral = spectral_features(file_name)\n",
    "    all_features = np.hstack([mfcc,delta,log_mel,zcr,spectral])\n",
    "    return all_features\n",
    "\n",
    "\n",
    "features = []\n",
    "labels = []\n",
    "\n",
    "for i, row in df.iterrows():\n",
    "    f = extract_features(row['file_path'])\n",
    "    features.append(f)\n",
    "    labels.append(row['emotion'])\n",
    "\n",
    "X = np.array(features)\n",
    "y = np.array(labels)\n",
    "\n",
    "\n"
   ]
  },
  {
   "cell_type": "code",
   "execution_count": 8,
   "metadata": {},
   "outputs": [
    {
     "name": "stdout",
     "output_type": "stream",
     "text": [
      "[[68  0  1  2  0  0  0  4]\n",
      " [ 0 68  1  0  1  2  3  0]\n",
      " [ 0  0 69  1  1  0  1  3]\n",
      " [ 0  1  0 66  1  0  6  2]\n",
      " [ 1  3  4  2 62  1  1  1]\n",
      " [ 0  2  0  0  0 73  0  0]\n",
      " [ 0  3  1  3  1  4 60  4]\n",
      " [ 0  2  0  0  0  0  0 73]]\n",
      "              precision    recall  f1-score   support\n",
      "\n",
      "       angry       0.99      0.91      0.94        75\n",
      "        calm       0.86      0.91      0.88        75\n",
      "     disgust       0.91      0.92      0.91        75\n",
      "     fearful       0.89      0.87      0.88        76\n",
      "       happy       0.94      0.83      0.88        75\n",
      "     neutral       0.91      0.97      0.94        75\n",
      "         sad       0.85      0.79      0.82        76\n",
      "   surprised       0.84      0.97      0.90        75\n",
      "\n",
      "    accuracy                           0.90       602\n",
      "   macro avg       0.90      0.90      0.90       602\n",
      "weighted avg       0.90      0.90      0.89       602\n",
      "\n"
     ]
    }
   ],
   "source": [
    "from sklearn.model_selection import train_test_split\n",
    "X_train, X_test, y_train, y_test = train_test_split(X, y, test_size=0.2, stratify=y, random_state=42)\n",
    "\n",
    "from sklearn.ensemble import RandomForestClassifier\n",
    "clf = RandomForestClassifier()\n",
    "clf.fit(X_train, y_train)\n",
    "\n",
    "from sklearn.metrics import classification_report, confusion_matrix\n",
    "y_pred = clf.predict(X_test)\n",
    "print(confusion_matrix(y_test, y_pred))\n",
    "print(classification_report(y_test, y_pred))\n",
    "\n"
   ]
  },
  {
   "cell_type": "code",
   "execution_count": 9,
   "metadata": {},
   "outputs": [
    {
     "name": "stdout",
     "output_type": "stream",
     "text": [
      "✅ Model  saved successfully.\n"
     ]
    }
   ],
   "source": [
    "import os\n",
    "import joblib\n",
    "\n",
    "# Ensure directory exists\n",
    "os.makedirs(\"model\", exist_ok=True)\n",
    "\n",
    "# Save model\n",
    "joblib.dump(clf, \"model/trained_model.pkl\")\n",
    "\n",
    "# Save LabelEncoder\n",
    "\n",
    "\n",
    "print(\"✅ Model  saved successfully.\")\n"
   ]
  },
  {
   "cell_type": "code",
   "execution_count": 10,
   "metadata": {},
   "outputs": [
    {
     "name": "stdout",
     "output_type": "stream",
     "text": [
      "✅ LabelEncoder saved to model/label_encoder.pkl\n"
     ]
    }
   ],
   "source": [
    "from sklearn.preprocessing import LabelEncoder\n",
    "import pickle\n",
    "import os\n",
    "\n",
    "# Your list of string labels (e.g., from your dataset)\n",
    "emotions_list = ['happy', 'angry', 'sad', 'calm', 'fearful', 'happy', 'sad']  # example\n",
    "\n",
    "# Encode labels\n",
    "le = LabelEncoder()\n",
    "Y = le.fit_transform(emotions_list)\n",
    "\n",
    "# Make sure model folder exists\n",
    "os.makedirs(\"model\", exist_ok=True)\n",
    "\n",
    "# Save encoder to disk\n",
    "with open(\"model/label_encoder.pkl\", \"wb\") as f:\n",
    "    pickle.dump(le, f)\n",
    "\n",
    "print(\"✅ LabelEncoder saved to model/label_encoder.pkl\")\n",
    "\n"
   ]
  }
 ],
 "metadata": {
  "kernelspec": {
   "display_name": "Python 3",
   "language": "python",
   "name": "python3"
  },
  "language_info": {
   "codemirror_mode": {
    "name": "ipython",
    "version": 3
   },
   "file_extension": ".py",
   "mimetype": "text/x-python",
   "name": "python",
   "nbconvert_exporter": "python",
   "pygments_lexer": "ipython3",
   "version": "3.11.9"
  }
 },
 "nbformat": 4,
 "nbformat_minor": 2
}
