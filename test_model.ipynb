{
 "cells": [
  {
   "cell_type": "markdown",
   "metadata": {},
   "source": [
    "# 🎧 Emotion Prediction Notebook\n",
    "\n",
    "This notebook allows you to test the trained model on custom `.wav` files and view the predicted emotion output.\n"
   ]
  },
  {
   "cell_type": "code",
   "execution_count": 5,
   "metadata": {},
   "outputs": [
    {
     "name": "stdout",
     "output_type": "stream",
     "text": [
      "🎧 Predicted Emotion: neutral\n"
     ]
    }
   ],
   "source": [
    "# predict_emotion.py\n",
    "\n",
    "import sys\n",
    "import numpy as np\n",
    "import joblib\n",
    "import librosa\n",
    "\n",
    "# Load model and label encoder\n",
    "model = joblib.load(\"model/trained_model.pkl\")\n",
    "label_encoder = joblib.load(\"model/label_encoder.pkl\")\n",
    "\n",
    "# Feature extraction functions\n",
    "def mfcc_values(filename):\n",
    "    y, sr = librosa.load(filename, duration=3, offset=0.5)\n",
    "    return np.mean(librosa.feature.mfcc(y=y, sr=sr, n_mfcc=40).T, axis=0)\n",
    "\n",
    "def delta_values(filename):\n",
    "    mfcc = mfcc_values(filename)\n",
    "    return librosa.feature.delta(mfcc)\n",
    "\n",
    "def log_mel_values(file_path, duration=3, offset=0.5, n_mels=128):\n",
    "    y, sr = librosa.load(file_path, duration=duration, offset=offset)\n",
    "    mel_spec = librosa.feature.melspectrogram(y=y, sr=sr, n_mels=n_mels)\n",
    "    return np.mean(librosa.power_to_db(mel_spec).T, axis=0)\n",
    "\n",
    "def zcr_values(file_name):\n",
    "    sig, sr = librosa.load(file_name, duration=3, offset=0.5)\n",
    "    return np.mean(librosa.feature.zero_crossing_rate(sig).T, axis=0)\n",
    "\n",
    "def spectral_features(file_path, duration=3, offset=0.5):\n",
    "    y, sr = librosa.load(file_path, duration=duration, offset=offset)\n",
    "    centroid = np.mean(librosa.feature.spectral_centroid(y=y, sr=sr))\n",
    "    bandwidth = np.mean(librosa.feature.spectral_bandwidth(y=y, sr=sr))\n",
    "    contrast = np.mean(librosa.feature.spectral_contrast(y=y, sr=sr), axis=1)\n",
    "    rolloff = np.mean(librosa.feature.spectral_rolloff(y=y, sr=sr))\n",
    "    flatness = np.mean(librosa.feature.spectral_flatness(y=y))\n",
    "    return np.hstack([centroid, bandwidth, rolloff, flatness, contrast])\n",
    "\n",
    "def extract_features(file_name):\n",
    "    return np.hstack([\n",
    "        mfcc_values(file_name),\n",
    "        delta_values(file_name),\n",
    "        log_mel_values(file_name),\n",
    "        zcr_values(file_name),\n",
    "        spectral_features(file_name)\n",
    "    ])\n",
    "\n",
    "\n",
    "\n",
    "audio_path = \"enter test file path \"  # hardcode or use input()\n",
    "features = extract_features(audio_path).reshape(1, -1)\n",
    "\n",
    "# Predict emotion\n",
    "prediction = model.predict(features)\n",
    "emotion = label_encoder.inverse_transform(prediction)[0]\n",
    "print(f\"🎧 Predicted Emotion: {emotion}\")\n"
   ]
  },
  {
   "cell_type": "markdown",
   "metadata": {},
   "source": [
    "## ✅ How to Use\n",
    "\n",
    "1. Place your test `.wav` file in the same directory or provide full path.\n",
    "2. Run all cells to extract features and predict emotion.\n",
    "3. You will see the predicted emotion printed as output.\n"
   ]
  }
 ],
 "metadata": {
  "kernelspec": {
   "display_name": "Python 3",
   "language": "python",
   "name": "python3"
  },
  "language_info": {
   "codemirror_mode": {
    "name": "ipython",
    "version": 3
   },
   "file_extension": ".py",
   "mimetype": "text/x-python",
   "name": "python",
   "nbconvert_exporter": "python",
   "pygments_lexer": "ipython3",
   "version": "3.11.9"
  }
 },
 "nbformat": 4,
 "nbformat_minor": 2
}
